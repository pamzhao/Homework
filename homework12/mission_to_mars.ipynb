{
 "cells": [
  {
   "cell_type": "markdown",
   "metadata": {},
   "source": [
    "## Scrape the NASA Mars News Site and collect the latest News Title and Paragraph Text.\n",
    "### by Pam Zhao"
   ]
  },
  {
   "cell_type": "code",
   "execution_count": 66,
   "metadata": {},
   "outputs": [],
   "source": [
    "import pandas as pd\n",
    "import requests\n",
    "from bs4 import BeautifulSoup\n",
    "from splinter import Browser\n",
    "from sqlalchemy import create_engine"
   ]
  },
  {
   "cell_type": "markdown",
   "metadata": {},
   "source": [
    "### NASA Mars News"
   ]
  },
  {
   "cell_type": "code",
   "execution_count": 23,
   "metadata": {},
   "outputs": [],
   "source": [
    "# Splinter to navigate the NASA Mars News sites\n",
    "executable_path = {'executable_path': 'chromedriver.exe'}\n",
    "browser = Browser('chrome', **executable_path, headless=False)\n",
    "\n",
    "# NASA Mars url\n",
    "url = 'https://mars.nasa.gov/news'\n",
    "browser.visit(url)\n",
    "\n",
    "# Parse HTML with Beautiful Soup\n",
    "soup = BeautifulSoup(browser.html, 'html.parser')\n",
    "\n",
    "# Get the first list which is the lastest news\n",
    "item = soup.find('ul', class_=\"item_list\")\n",
    "current_slide = item.find('li')\n"
   ]
  },
  {
   "cell_type": "code",
   "execution_count": 24,
   "metadata": {},
   "outputs": [
    {
     "name": "stdout",
     "output_type": "stream",
     "text": [
      "NASA's MRO Completes 60,000 Trips Around Mars\n",
      "The orbiting spacecraft is also about to set a record for data relayed from the Martian surface.\n"
     ]
    }
   ],
   "source": [
    "# Save the latest news title and Paragraph text\n",
    "news_title = current_slide.find('h3').text.strip()\n",
    "news_p = current_slide.find('div', class_='article_teaser_body').text.strip()\n",
    "\n",
    "print(news_title)\n",
    "print(news_p)"
   ]
  },
  {
   "cell_type": "markdown",
   "metadata": {},
   "source": [
    "### JPL Mars Space Images - Featured Image"
   ]
  },
  {
   "cell_type": "code",
   "execution_count": 25,
   "metadata": {},
   "outputs": [],
   "source": [
    "# Splinter to navigate the JPL Mars Space Images\n",
    "executable_path = {'executable_path': 'chromedriver.exe'}\n",
    "browser = Browser('chrome', **executable_path, headless=False)\n",
    "\n",
    "# JPL Mars Space Images url\n",
    "url = 'https://www.jpl.nasa.gov/spaceimages/?search=&category=Mars'\n",
    "browser.visit(url)\n",
    "\n",
    "# Parse HTML with Beautiful Soup\n",
    "soup = BeautifulSoup(browser.html, 'html.parser')\n",
    "\n",
    "# Get the first image which is the current image of Mars\n",
    "article = soup.find('ul', class_=\"articles\")\n",
    "current_slide = article.find('li')\n"
   ]
  },
  {
   "cell_type": "code",
   "execution_count": 26,
   "metadata": {
    "scrolled": true
   },
   "outputs": [
    {
     "name": "stdout",
     "output_type": "stream",
     "text": [
      "https://www.jpl.nasa.gov/spaceimages/images/wallpaper/PIA23221-640x350.jpg\n"
     ]
    }
   ],
   "source": [
    "# Get the current Mars image url\n",
    "image = current_slide.find('div', class_='img')\n",
    "featured_image_url = 'https://www.jpl.nasa.gov' + image.img['src']\n",
    "\n",
    "print(featured_image_url )"
   ]
  },
  {
   "cell_type": "markdown",
   "metadata": {},
   "source": [
    "### Mars Weather"
   ]
  },
  {
   "cell_type": "code",
   "execution_count": 38,
   "metadata": {},
   "outputs": [],
   "source": [
    "# Splinter to navigate the Mars Weather twitter account\n",
    "executable_path = {'executable_path': 'chromedriver.exe'}\n",
    "browser = Browser('chrome', **executable_path, headless=False)\n",
    "\n",
    "# Mars Weather twitter account url\n",
    "url = 'https://twitter.com/marswxreport?lang=en'\n",
    "browser.visit(url)\n",
    "\n",
    "# HTML object\n",
    "html = browser.html\n",
    "# Parse HTML with Beautiful Soup\n",
    "soup = BeautifulSoup(html, 'html.parser')\n",
    "\n",
    "# Get the first image which is the current image of Mars\n",
    "stream = soup.find('ol', class_=\"stream-items js-navigable-stream\")\n",
    "current_item = stream.find('li')\n"
   ]
  },
  {
   "cell_type": "code",
   "execution_count": 47,
   "metadata": {},
   "outputs": [
    {
     "name": "stdout",
     "output_type": "stream",
     "text": [
      "InSight sol 167 (2019-05-17) low -100.5ºC (-148.9ºF) high -20.4ºC (-4.6ºF)\n",
      "winds from the SW at 4.7 m/s (10.6 mph) gusting to 13.5 m/s (30.3 mph)\n",
      "pressure at 7.50 hPa\n"
     ]
    }
   ],
   "source": [
    "text_container = current_item.find('div', class_=\"js-tweet-text-container\")\n",
    "mars_weather = text_container.find('p').text.strip()\n",
    "link = text_container.find('p').find('a').text.strip()\n",
    "mars_weather = mars_weather.replace(link, '')\n",
    "\n",
    "print (mars_weather)"
   ]
  },
  {
   "cell_type": "markdown",
   "metadata": {},
   "source": [
    "### Mars Facts"
   ]
  },
  {
   "cell_type": "code",
   "execution_count": 51,
   "metadata": {},
   "outputs": [
    {
     "name": "stdout",
     "output_type": "stream",
     "text": [
      "<table class=\"tablepress tablepress-id-mars\" id=\"tablepress-mars\">\n",
      "<tbody>\n",
      "<tr class=\"row-1 odd\">\n",
      "<td class=\"column-1\"><strong>Equatorial Diameter:</strong></td><td class=\"column-2\">6,792 km<br/>\n",
      "</td>\n",
      "</tr>\n",
      "<tr class=\"row-2 even\">\n",
      "<td class=\"column-1\"><strong>Polar Diameter:</strong></td><td class=\"column-2\">6,752 km<br/>\n",
      "</td>\n",
      "</tr>\n",
      "<tr class=\"row-3 odd\">\n",
      "<td class=\"column-1\"><strong>Mass:</strong></td><td class=\"column-2\">6.42 x 10^23 kg (10.7% Earth)</td>\n",
      "</tr>\n",
      "<tr class=\"row-4 even\">\n",
      "<td class=\"column-1\"><strong>Moons:</strong></td><td class=\"column-2\">2 (<a href=\"https://space-facts.com/phobos/\">Phobos</a> &amp; <a href=\"https://space-facts.com/deimos/\">Deimos</a>)</td>\n",
      "</tr>\n",
      "<tr class=\"row-5 odd\">\n",
      "<td class=\"column-1\"><strong>Orbit Distance:</strong></td><td class=\"column-2\">227,943,824 km (1.52 AU)</td>\n",
      "</tr>\n",
      "<tr class=\"row-6 even\">\n",
      "<td class=\"column-1\"><strong>Orbit Period:</strong></td><td class=\"column-2\">687 days (1.9 years)<br/>\n",
      "</td>\n",
      "</tr>\n",
      "<tr class=\"row-7 odd\">\n",
      "<td class=\"column-1\"><strong>Surface Temperature: </strong></td><td class=\"column-2\">-153 to 20 °C</td>\n",
      "</tr>\n",
      "<tr class=\"row-8 even\">\n",
      "<td class=\"column-1\"><strong>First Record:</strong></td><td class=\"column-2\">2nd millennium BC</td>\n",
      "</tr>\n",
      "<tr class=\"row-9 odd\">\n",
      "<td class=\"column-1\"><strong>Recorded By:</strong></td><td class=\"column-2\">Egyptian astronomers</td>\n",
      "</tr>\n",
      "</tbody>\n",
      "</table>\n"
     ]
    }
   ],
   "source": [
    "# Mars facts url \n",
    "url = \"https://space-facts.com/mars/\"\n",
    "\n",
    "# Retrive page from the request module\n",
    "response = requests.get(url)\n",
    "\n",
    "# Create BeautifulSoup object; parse with 'html.parser'\n",
    "soup = BeautifulSoup(response.text, 'html.parser')\n",
    "\n",
    "# Get the html table \n",
    "facts_table = soup.find('table', class_=\"tablepress tablepress-id-mars\")\n",
    "\n",
    "tds = facts_table.find_all('td')\n",
    "for \n"
   ]
  },
  {
   "cell_type": "markdown",
   "metadata": {},
   "source": [
    "### Mars Hemispheres"
   ]
  },
  {
   "cell_type": "code",
   "execution_count": 52,
   "metadata": {},
   "outputs": [],
   "source": [
    "# Splinter to navigate the Mars Weather twitter account\n",
    "executable_path = {'executable_path': 'chromedriver.exe'}\n",
    "browser = Browser('chrome', **executable_path, headless=False)\n",
    "\n",
    "# url of Mars hemisphere\n",
    "url = 'https://astrogeology.usgs.gov/search/results?q=hemisphere+enhanced&k1=target&v1=Mars'\n",
    "browser.visit(url)\n",
    "\n",
    "# HTML object\n",
    "html = browser.html\n",
    "# Parse HTML with Beautiful Soup\n",
    "soup = BeautifulSoup(html, 'html.parser')\n",
    "\n",
    "items = soup.find_all('div', class_=\"item\")"
   ]
  },
  {
   "cell_type": "code",
   "execution_count": 64,
   "metadata": {},
   "outputs": [],
   "source": [
    "hemisphere_image_urls = []\n",
    "\n",
    "for item in items:\n",
    "    title = item.find('h3').text.strip()\n",
    "    link = 'https://astrogeology.usgs.gov' + item.find('a')['href']\n",
    "    browser.visit(link)\n",
    "    hemisphere = BeautifulSoup(browser.html, 'html.parser')\n",
    "    img_url = hemisphere.find('ul').find('li').find('a')['href']\n",
    "    img_dict = {\"title\": title, \"img_url\": img_url}\n",
    "    hemisphere_image_urls.append(dict(img_dict))\n",
    "    "
   ]
  },
  {
   "cell_type": "code",
   "execution_count": 65,
   "metadata": {},
   "outputs": [
    {
     "name": "stdout",
     "output_type": "stream",
     "text": [
      "[{'title': 'Cerberus Hemisphere Enhanced', 'img_url': 'http://astropedia.astrogeology.usgs.gov/download/Mars/Viking/cerberus_enhanced.tif/full.jpg'}, {'title': 'Schiaparelli Hemisphere Enhanced', 'img_url': 'http://astropedia.astrogeology.usgs.gov/download/Mars/Viking/schiaparelli_enhanced.tif/full.jpg'}, {'title': 'Syrtis Major Hemisphere Enhanced', 'img_url': 'http://astropedia.astrogeology.usgs.gov/download/Mars/Viking/syrtis_major_enhanced.tif/full.jpg'}, {'title': 'Valles Marineris Hemisphere Enhanced', 'img_url': 'http://astropedia.astrogeology.usgs.gov/download/Mars/Viking/valles_marineris_enhanced.tif/full.jpg'}]\n"
     ]
    }
   ],
   "source": [
    "print(hemisphere_image_urls)"
   ]
  },
  {
   "cell_type": "code",
   "execution_count": null,
   "metadata": {},
   "outputs": [],
   "source": []
  }
 ],
 "metadata": {
  "kernelspec": {
   "display_name": "Python 3",
   "language": "python",
   "name": "python3"
  },
  "language_info": {
   "codemirror_mode": {
    "name": "ipython",
    "version": 3
   },
   "file_extension": ".py",
   "mimetype": "text/x-python",
   "name": "python",
   "nbconvert_exporter": "python",
   "pygments_lexer": "ipython3",
   "version": "3.7.1"
  }
 },
 "nbformat": 4,
 "nbformat_minor": 2
}
